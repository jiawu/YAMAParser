{
 "cells": [
  {
   "cell_type": "markdown",
   "metadata": {},
   "source": [
    "## Parsing GSE3838 GSE3839 GSE4974 to identify behavior of HDAC and SIRT transcripts in megakaryocytes under multiple conditions"
   ]
  },
  {
   "cell_type": "code",
   "execution_count": 2,
   "metadata": {
    "ExecuteTime": {
     "end_time": "2017-02-26T16:09:06.902615",
     "start_time": "2017-02-26T16:09:06.894030"
    },
    "collapsed": true
   },
   "outputs": [],
   "source": [
    " from IPython.display import HTML, display"
   ]
  },
  {
   "cell_type": "markdown",
   "metadata": {},
   "source": [
    "*Text is from NCBI GEO*\n",
    "\n",
    "**GSE3838: **\n",
    "\n",
    "*Experimental conditions*  \n",
    "CHRF-288 cells were cultured in the presence of 10 ng/mL phorbol ester (PMA) or equivalent volume of DMSO solvent (0.02%). Unstimulated control cells from time zero (exponentially growing CHRF cells) were also analyzed. For PMA treated legs, only the adherent cells were included in the transcriptional analysis. \n",
    "\n",
    "|_Treatment/Timepoint_| Experiment # (Number of technical replicates) |\n",
    "|---------------------|-----------------------------------------------|\n",
    "|No treatment (Time 0)| exp3 (3), exp4 (2) |\n",
    "|PMA-1hr| exp3 (2), exp4 (2) |\n",
    "|PMA-6hr| exp3 (2), exp4 (2)|\n",
    "|PMA-12hr| exp3 (1), exp4 (1)|\n",
    "|PMA-1d| exp3 (1), exp4 (2)|\n",
    "|PMA-2d| exp3 (1), exp4 (1)|\n",
    "|PMA-3d| exp3 (1), exp4 (1)|\n",
    "|PMA-4d| exp3 (1), exp4 (1)|\n",
    "|PMA-5d| exp3 (2), exp4 (2)|\n",
    "|PMA-7d| exp3 (1), exp4 (1)|\n",
    "|PMA-9d| exp3 (2), exp4 (1)|\n",
    "\n",
    "\n",
    "*Number of replicates*  \n",
    "Two biological replicate experiments were analyzed and approximately one-half of the samples with each experiment were technically replicated. Hybridizations were performed in a reference design with all samples labeled with Cy3 and a reference RNA pool labeled with Cy5 (Universal Reference synthesized RNA).\n",
    "\n",
    "**GSE3839:**  \n",
    "*Experimental conditions*  \n",
    "G-CSF mobilized peripheral blood CD34-positive cells were cultured with TPO, IL-3, and Flt3-L to induce Mk differentiation. **Samples prior to day 5, including uncultured starting cells, were analyzed directly, whereas samples after and including day 5 were positively selected for CD41a expression immediately prior to RNA isolation.** \n",
    "\n",
    "|_Treatment/Timepoint_| Experiment # (Number of technical replicates) |\n",
    "|---------------------|-----------------------------------------------|\n",
    "| Day 0| Exp1(2), Exp2(2), Exp3(2) | \n",
    "| Day 1| Exp1(1), Exp2(1), Exp3(1) | \n",
    "| Day 2| Exp1(2), Exp2(1), Exp3(0) | \n",
    "| Day 3| Exp1(1), Exp2(1), Exp3(1) | \n",
    "| Day 4| Exp1(2), Exp2(2), Exp3(2) | \n",
    "| Day 5| Exp1(2), Exp2(2), Exp3(1) | \n",
    "| Day 7| Exp1(1), Exp2(1), Exp3(2) | \n",
    "| Day 9| Exp1(1), Exp2(2), Exp3(1) | \n",
    "| Day 12| Exp1(1), Exp2(1), Exp3(1) | \n",
    "\n",
    "*Number of replicates*  \n",
    "Three biological replicate experiments were analyzed and approximately one-half of the samples from each experiment were technically replicated. Hybridizations were performed in a reference design with all samples labeled with Cy3 and a reference RNA pool labeled with Cy5.\n",
    "\n",
    "**GSE4974:**\n",
    "\n",
    "*Experimental conditions*  \n",
    "G-CSF mobilized peripheral blood CD34-positive cells were cultured with TPO and or NIC from day 5. This study focuses on understanding the differences in the temporal gene expression pattern during differentiation with and without nicotinamide. Nicotinamide was added on day 5. For each experiment, a sample was taken on day 5, before nicotinamide addition, and on days 6, 8, and 10 from both nicotinamide and control treated cultures. Each sample was analyzed in duplicate for a total of 14 hybridizations per culture or 28 total hybridizations.\n",
    "\n",
    "|_Treatment/Timepoint_| Experiment # (Number of technical replicates) |\n",
    "|---------------------|-----------------------------------------------|\n",
    "| Day 5 (Pre-treatment with NIC) | Exp1(2), Exp2(2) | \n",
    "| Day 6 TPO only | Exp1(2), Exp2(2) | \n",
    "| Day 8 TPO only | Exp1(2), Exp2(2) | \n",
    "| Day 10 TPO only | Exp1(2), Exp2(2) | \n",
    "| Day 6 NIC+TPO | Exp1(2), Exp2(2) | \n",
    "| Day 8 NIC+TPO | Exp1(2), Exp2(2) | \n",
    "| Day 10 NIC+TPO | Exp1(2), Exp2(2) | \n",
    "\n",
    "*Number of replicates*  \n",
    "Two biological experiments were analyzed with two technical replicates.\n",
    "\n"
   ]
  },
  {
   "cell_type": "markdown",
   "metadata": {},
   "source": [
    "## Comparisons\n",
    "1. Identify genes that may be activated in megakaryoblastic cell line over time. In CHRF cells, plot genes over time when stimulated with PMA\n",
    "2. Identify genes that may be activated over time during differentiation. In primary cells #1, plot genes over time when stimulated with TPO over time (day 0-12)\n",
    "3. In primary cells #2, plot ratio of genes TPO vs NIC+TPO (day 5-10)\n",
    "4. Summarize consistency between CHRF and primary cells\n",
    "5. Summarize consistency between primary cells #1 and primary cells #2\n",
    "6. Identify genes that may be activated in response to long-term treatment with nicotinamide, which is a PAN-sirtuin inhibitor.\n",
    "\n"
   ]
  },
  {
   "cell_type": "code",
   "execution_count": null,
   "metadata": {
    "collapsed": true
   },
   "outputs": [],
   "source": [
    "# load the series file\n",
    "\n",
    "# skip the lines with ! except !Sample_title\n",
    "\n",
    "# save file into dataframe\n",
    "\n",
    "GSE_path = \n",
    "with open(GSE_path)\n"
   ]
  }
 ],
 "metadata": {
  "kernelspec": {
   "display_name": "Python 3",
   "language": "python",
   "name": "python3"
  },
  "language_info": {
   "codemirror_mode": {
    "name": "ipython",
    "version": 3
   },
   "file_extension": ".py",
   "mimetype": "text/x-python",
   "name": "python",
   "nbconvert_exporter": "python",
   "pygments_lexer": "ipython3",
   "version": "3.4.4"
  }
 },
 "nbformat": 4,
 "nbformat_minor": 0
}
